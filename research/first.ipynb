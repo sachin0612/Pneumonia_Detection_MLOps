{
 "cells": [
  {
   "cell_type": "code",
   "execution_count": 1,
   "metadata": {},
   "outputs": [],
   "source": [
    "import os"
   ]
  },
  {
   "cell_type": "code",
   "execution_count": 2,
   "metadata": {},
   "outputs": [
    {
     "data": {
      "text/plain": [
       "'c:\\\\Users\\\\Sachin\\\\Desktop\\\\Pneumonia_Detection\\\\Pneumonia_Detection_MLOps\\\\research'"
      ]
     },
     "execution_count": 2,
     "metadata": {},
     "output_type": "execute_result"
    }
   ],
   "source": [
    "%pwd"
   ]
  },
  {
   "cell_type": "code",
   "execution_count": 3,
   "metadata": {},
   "outputs": [],
   "source": [
    "os.chdir('../')"
   ]
  },
  {
   "cell_type": "code",
   "execution_count": 4,
   "metadata": {},
   "outputs": [
    {
     "data": {
      "text/plain": [
       "'c:\\\\Users\\\\Sachin\\\\Desktop\\\\Pneumonia_Detection\\\\Pneumonia_Detection_MLOps'"
      ]
     },
     "execution_count": 4,
     "metadata": {},
     "output_type": "execute_result"
    }
   ],
   "source": [
    "%pwd"
   ]
  },
  {
   "cell_type": "code",
   "execution_count": 12,
   "metadata": {},
   "outputs": [
    {
     "name": "stdout",
     "output_type": "stream",
     "text": [
      "Found 5118 images belonging to 2 classes.\n",
      "Found 91 images belonging to 2 classes.\n"
     ]
    }
   ],
   "source": [
    "import tensorflow as tf\n",
    "from pathlib import Path\n",
    "\n",
    "# Define the data preprocessing settings (only rescaling)\n",
    "train_data_gen = tf.keras.preprocessing.image.ImageDataGenerator(\n",
    "    rescale=1./255  # Normalize pixel values to [0, 1]\n",
    ")\n",
    "\n",
    "val_test_data_gen = tf.keras.preprocessing.image.ImageDataGenerator(\n",
    "    rescale=1./255  # Normalize pixel values to [0, 1]\n",
    ")\n",
    "\n",
    "# Directory paths for your datasets\n",
    "train_dir = Path('artifacts/data_ingestion/chest_xray/train')\n",
    "val_dir = Path('artifacts/data_ingestion/chest_xray/val')\n",
    "\n",
    "\n",
    "# Create data generators\n",
    "batch_size = 32  # Adjust as needed\n",
    "train_generator = train_data_gen.flow_from_directory(\n",
    "    train_dir,\n",
    "    target_size=(224, 224),  # Resize images to a consistent size\n",
    "    batch_size=batch_size,\n",
    "    class_mode='binary',     # Use 'categorical' for multi-class classification\n",
    "    shuffle=True             # Shuffle data during training\n",
    ")\n",
    "\n",
    "validation_generator = val_test_data_gen.flow_from_directory(\n",
    "    val_dir,\n",
    "    target_size=(224, 224),\n",
    "    batch_size=batch_size,\n",
    "    class_mode='binary',\n",
    "    shuffle=False  # No need to shuffle validation data\n",
    ")\n"
   ]
  },
  {
   "cell_type": "code",
   "execution_count": 25,
   "metadata": {},
   "outputs": [
    {
     "ename": "ImportError",
     "evalue": "cannot import name 'is_datetime_or_timedelta_dtype' from 'pandas.core.dtypes.common' (c:\\Users\\Sachin\\Desktop\\Pneumonia_Detection\\Pneumonia_Detection_MLOps\\pneumonia_env\\lib\\site-packages\\pandas\\core\\dtypes\\common.py)",
     "output_type": "error",
     "traceback": [
      "\u001b[1;31m---------------------------------------------------------------------------\u001b[0m",
      "\u001b[1;31mImportError\u001b[0m                               Traceback (most recent call last)",
      "\u001b[1;32mc:\\Users\\Sachin\\Desktop\\Pneumonia_Detection\\Pneumonia_Detection_MLOps\\research\\first.ipynb Cell 6\u001b[0m line \u001b[0;36m1\n\u001b[1;32m----> <a href='vscode-notebook-cell:/c%3A/Users/Sachin/Desktop/Pneumonia_Detection/Pneumonia_Detection_MLOps/research/first.ipynb#X12sZmlsZQ%3D%3D?line=0'>1</a>\u001b[0m \u001b[39mfrom\u001b[39;00m \u001b[39mdeepchecks\u001b[39;00m\u001b[39m.\u001b[39;00m\u001b[39mvision\u001b[39;00m \u001b[39mimport\u001b[39;00m VisionData, BatchOutputFormat\n\u001b[0;32m      <a href='vscode-notebook-cell:/c%3A/Users/Sachin/Desktop/Pneumonia_Detection/Pneumonia_Detection_MLOps/research/first.ipynb#X12sZmlsZQ%3D%3D?line=2'>3</a>\u001b[0m \u001b[39mdef\u001b[39;00m \u001b[39mdeepchecks_map\u001b[39m(batch) \u001b[39m-\u001b[39m\u001b[39m>\u001b[39m BatchOutputFormat:\n\u001b[0;32m      <a href='vscode-notebook-cell:/c%3A/Users/Sachin/Desktop/Pneumonia_Detection/Pneumonia_Detection_MLOps/research/first.ipynb#X12sZmlsZQ%3D%3D?line=3'>4</a>\u001b[0m     \u001b[39m# Extracting images and label and converting images of (N, C, H, W) into (N, H, W, C)\u001b[39;00m\n\u001b[0;32m      <a href='vscode-notebook-cell:/c%3A/Users/Sachin/Desktop/Pneumonia_Detection/Pneumonia_Detection_MLOps/research/first.ipynb#X12sZmlsZQ%3D%3D?line=4'>5</a>\u001b[0m     images \u001b[39m=\u001b[39m batch[\u001b[39m0\u001b[39m]\u001b[39m.\u001b[39mpermute(\u001b[39m0\u001b[39m, \u001b[39m2\u001b[39m, \u001b[39m3\u001b[39m, \u001b[39m1\u001b[39m)\n",
      "File \u001b[1;32mc:\\Users\\Sachin\\Desktop\\Pneumonia_Detection\\Pneumonia_Detection_MLOps\\pneumonia_env\\lib\\site-packages\\deepchecks\\__init__.py:34\u001b[0m\n\u001b[0;32m     31\u001b[0m \u001b[39mimport\u001b[39;00m \u001b[39mplotly\u001b[39;00m\u001b[39m.\u001b[39;00m\u001b[39mio\u001b[39;00m \u001b[39mas\u001b[39;00m \u001b[39mpio\u001b[39;00m\n\u001b[0;32m     33\u001b[0m \u001b[39mfrom\u001b[39;00m \u001b[39mdeepchecks\u001b[39;00m\u001b[39m.\u001b[39;00m\u001b[39manalytics\u001b[39;00m\u001b[39m.\u001b[39;00m\u001b[39manonymous_telemetry\u001b[39;00m \u001b[39mimport\u001b[39;00m validate_latest_version\n\u001b[1;32m---> 34\u001b[0m \u001b[39mfrom\u001b[39;00m \u001b[39mdeepchecks\u001b[39;00m\u001b[39m.\u001b[39;00m\u001b[39mcore\u001b[39;00m \u001b[39mimport\u001b[39;00m (BaseCheck, BaseSuite, CheckFailure, CheckResult, Condition, ConditionCategory,\n\u001b[0;32m     35\u001b[0m                              ConditionResult, ModelOnlyBaseCheck, SingleDatasetBaseCheck, SuiteResult,\n\u001b[0;32m     36\u001b[0m                              TrainTestBaseCheck)\n\u001b[0;32m     37\u001b[0m \u001b[39m# TODO: remove in further versions\u001b[39;00m\n\u001b[0;32m     38\u001b[0m \u001b[39mfrom\u001b[39;00m \u001b[39mdeepchecks\u001b[39;00m\u001b[39m.\u001b[39;00m\u001b[39mtabular\u001b[39;00m \u001b[39mimport\u001b[39;00m (Context, Dataset, ModelComparisonCheck, ModelComparisonSuite, ModelOnlyCheck,\n\u001b[0;32m     39\u001b[0m                                 SingleDatasetCheck, Suite, TrainTestCheck)\n",
      "File \u001b[1;32mc:\\Users\\Sachin\\Desktop\\Pneumonia_Detection\\Pneumonia_Detection_MLOps\\pneumonia_env\\lib\\site-packages\\deepchecks\\core\\__init__.py:15\u001b[0m\n\u001b[0;32m      1\u001b[0m \u001b[39m# ----------------------------------------------------------------------------\u001b[39;00m\n\u001b[0;32m      2\u001b[0m \u001b[39m# Copyright (C) 2021-2023 Deepchecks (https://www.deepchecks.com)\u001b[39;00m\n\u001b[0;32m      3\u001b[0m \u001b[39m#\u001b[39;00m\n\u001b[1;32m   (...)\u001b[0m\n\u001b[0;32m      9\u001b[0m \u001b[39m# ----------------------------------------------------------------------------\u001b[39;00m\n\u001b[0;32m     10\u001b[0m \u001b[39m#\u001b[39;00m\n\u001b[0;32m     11\u001b[0m \u001b[39m\"\"\"Module for base classes.\u001b[39;00m\n\u001b[0;32m     12\u001b[0m \n\u001b[0;32m     13\u001b[0m \u001b[39mImport objects to be available in parent deepchecks module.\u001b[39;00m\n\u001b[0;32m     14\u001b[0m \u001b[39m\"\"\"\u001b[39;00m\n\u001b[1;32m---> 15\u001b[0m \u001b[39mfrom\u001b[39;00m \u001b[39m.\u001b[39;00m\u001b[39mcheck_json\u001b[39;00m \u001b[39mimport\u001b[39;00m CheckFailureJson, CheckResultJson\n\u001b[0;32m     16\u001b[0m \u001b[39mfrom\u001b[39;00m \u001b[39m.\u001b[39;00m\u001b[39mcheck_result\u001b[39;00m \u001b[39mimport\u001b[39;00m CheckFailure, CheckResult\n\u001b[0;32m     17\u001b[0m \u001b[39mfrom\u001b[39;00m \u001b[39m.\u001b[39;00m\u001b[39mchecks\u001b[39;00m \u001b[39mimport\u001b[39;00m BaseCheck, DatasetKind, ModelOnlyBaseCheck, SingleDatasetBaseCheck, TrainTestBaseCheck\n",
      "File \u001b[1;32mc:\\Users\\Sachin\\Desktop\\Pneumonia_Detection\\Pneumonia_Detection_MLOps\\pneumonia_env\\lib\\site-packages\\deepchecks\\core\\check_json.py:21\u001b[0m\n\u001b[0;32m     18\u001b[0m \u001b[39mimport\u001b[39;00m \u001b[39mpandas\u001b[39;00m \u001b[39mas\u001b[39;00m \u001b[39mpd\u001b[39;00m\n\u001b[0;32m     19\u001b[0m \u001b[39mimport\u001b[39;00m \u001b[39mplotly\u001b[39;00m\n\u001b[1;32m---> 21\u001b[0m \u001b[39mfrom\u001b[39;00m \u001b[39mdeepchecks\u001b[39;00m\u001b[39m.\u001b[39;00m\u001b[39mcore\u001b[39;00m\u001b[39m.\u001b[39;00m\u001b[39mcheck_result\u001b[39;00m \u001b[39mimport\u001b[39;00m CheckFailure, CheckResult, DisplayMap\n\u001b[0;32m     22\u001b[0m \u001b[39mfrom\u001b[39;00m \u001b[39mdeepchecks\u001b[39;00m\u001b[39m.\u001b[39;00m\u001b[39mcore\u001b[39;00m\u001b[39m.\u001b[39;00m\u001b[39mcondition\u001b[39;00m \u001b[39mimport\u001b[39;00m Condition, ConditionCategory, ConditionResult\n\u001b[0;32m     23\u001b[0m \u001b[39mfrom\u001b[39;00m \u001b[39mdeepchecks\u001b[39;00m\u001b[39m.\u001b[39;00m\u001b[39mutils\u001b[39;00m\u001b[39m.\u001b[39;00m\u001b[39mhtml\u001b[39;00m \u001b[39mimport\u001b[39;00m imagetag\n",
      "File \u001b[1;32mc:\\Users\\Sachin\\Desktop\\Pneumonia_Detection\\Pneumonia_Detection_MLOps\\pneumonia_env\\lib\\site-packages\\deepchecks\\core\\check_result.py:25\u001b[0m\n\u001b[0;32m     22\u001b[0m \u001b[39mfrom\u001b[39;00m \u001b[39mplotly\u001b[39;00m\u001b[39m.\u001b[39;00m\u001b[39mbasedatatypes\u001b[39;00m \u001b[39mimport\u001b[39;00m BaseFigure\n\u001b[0;32m     24\u001b[0m \u001b[39mfrom\u001b[39;00m \u001b[39mdeepchecks\u001b[39;00m\u001b[39m.\u001b[39;00m\u001b[39mcore\u001b[39;00m\u001b[39m.\u001b[39;00m\u001b[39mcondition\u001b[39;00m \u001b[39mimport\u001b[39;00m ConditionCategory, ConditionResult\n\u001b[1;32m---> 25\u001b[0m \u001b[39mfrom\u001b[39;00m \u001b[39mdeepchecks\u001b[39;00m\u001b[39m.\u001b[39;00m\u001b[39mcore\u001b[39;00m\u001b[39m.\u001b[39;00m\u001b[39mdisplay\u001b[39;00m \u001b[39mimport\u001b[39;00m DisplayableResult, save_as_html\n\u001b[0;32m     26\u001b[0m \u001b[39mfrom\u001b[39;00m \u001b[39mdeepchecks\u001b[39;00m\u001b[39m.\u001b[39;00m\u001b[39mcore\u001b[39;00m\u001b[39m.\u001b[39;00m\u001b[39merrors\u001b[39;00m \u001b[39mimport\u001b[39;00m DeepchecksValueError\n\u001b[0;32m     27\u001b[0m \u001b[39mfrom\u001b[39;00m \u001b[39mdeepchecks\u001b[39;00m\u001b[39m.\u001b[39;00m\u001b[39mcore\u001b[39;00m\u001b[39m.\u001b[39;00m\u001b[39mreduce_classes\u001b[39;00m \u001b[39mimport\u001b[39;00m ReduceMixin\n",
      "File \u001b[1;32mc:\\Users\\Sachin\\Desktop\\Pneumonia_Detection\\Pneumonia_Detection_MLOps\\pneumonia_env\\lib\\site-packages\\deepchecks\\core\\display.py:25\u001b[0m\n\u001b[0;32m     22\u001b[0m \u001b[39mfrom\u001b[39;00m \u001b[39mIPython\u001b[39;00m\u001b[39m.\u001b[39;00m\u001b[39mcore\u001b[39;00m\u001b[39m.\u001b[39;00m\u001b[39mdisplay\u001b[39;00m \u001b[39mimport\u001b[39;00m display, display_html\n\u001b[0;32m     23\u001b[0m \u001b[39mfrom\u001b[39;00m \u001b[39mipywidgets\u001b[39;00m \u001b[39mimport\u001b[39;00m Widget\n\u001b[1;32m---> 25\u001b[0m \u001b[39mfrom\u001b[39;00m \u001b[39mdeepchecks\u001b[39;00m\u001b[39m.\u001b[39;00m\u001b[39mcore\u001b[39;00m\u001b[39m.\u001b[39;00m\u001b[39mserialization\u001b[39;00m\u001b[39m.\u001b[39;00m\u001b[39mabc\u001b[39;00m \u001b[39mimport\u001b[39;00m HTMLFormatter, HtmlSerializer, IPythonSerializer, WidgetSerializer\n\u001b[0;32m     26\u001b[0m \u001b[39mfrom\u001b[39;00m \u001b[39mdeepchecks\u001b[39;00m\u001b[39m.\u001b[39;00m\u001b[39mutils\u001b[39;00m\u001b[39m.\u001b[39;00m\u001b[39mipython\u001b[39;00m \u001b[39mimport\u001b[39;00m is_colab_env, is_databricks_env, is_kaggle_env, is_sagemaker_env, is_sphinx\n\u001b[0;32m     27\u001b[0m \u001b[39mfrom\u001b[39;00m \u001b[39mdeepchecks\u001b[39;00m\u001b[39m.\u001b[39;00m\u001b[39mutils\u001b[39;00m\u001b[39m.\u001b[39;00m\u001b[39mlogger\u001b[39;00m \u001b[39mimport\u001b[39;00m get_logger\n",
      "File \u001b[1;32mc:\\Users\\Sachin\\Desktop\\Pneumonia_Detection\\Pneumonia_Detection_MLOps\\pneumonia_env\\lib\\site-packages\\deepchecks\\core\\serialization\\abc.py:24\u001b[0m\n\u001b[0;32m     21\u001b[0m \u001b[39mfrom\u001b[39;00m \u001b[39mtyping_extensions\u001b[39;00m \u001b[39mimport\u001b[39;00m Protocol, runtime_checkable\n\u001b[0;32m     23\u001b[0m \u001b[39mfrom\u001b[39;00m \u001b[39mdeepchecks\u001b[39;00m\u001b[39m.\u001b[39;00m\u001b[39mcore\u001b[39;00m \u001b[39mimport\u001b[39;00m check_result \u001b[39mas\u001b[39;00m check_types  \u001b[39m# pylint: disable=unused-import\u001b[39;00m\n\u001b[1;32m---> 24\u001b[0m \u001b[39mfrom\u001b[39;00m \u001b[39mdeepchecks\u001b[39;00m\u001b[39m.\u001b[39;00m\u001b[39mcore\u001b[39;00m\u001b[39m.\u001b[39;00m\u001b[39mserialization\u001b[39;00m \u001b[39mimport\u001b[39;00m common\n\u001b[0;32m     26\u001b[0m \u001b[39mtry\u001b[39;00m:\n\u001b[0;32m     27\u001b[0m     \u001b[39mfrom\u001b[39;00m \u001b[39mwandb\u001b[39;00m\u001b[39m.\u001b[39;00m\u001b[39msdk\u001b[39;00m\u001b[39m.\u001b[39;00m\u001b[39mdata_types\u001b[39;00m\u001b[39m.\u001b[39;00m\u001b[39mbase_types\u001b[39;00m\u001b[39m.\u001b[39;00m\u001b[39mwb_value\u001b[39;00m \u001b[39mimport\u001b[39;00m WBValue  \u001b[39m# pylint: disable=unused-import\u001b[39;00m\n",
      "File \u001b[1;32mc:\\Users\\Sachin\\Desktop\\Pneumonia_Detection\\Pneumonia_Detection_MLOps\\pneumonia_env\\lib\\site-packages\\deepchecks\\core\\serialization\\common.py:32\u001b[0m\n\u001b[0;32m     30\u001b[0m \u001b[39mfrom\u001b[39;00m \u001b[39mdeepchecks\u001b[39;00m\u001b[39m.\u001b[39;00m\u001b[39mcore\u001b[39;00m \u001b[39mimport\u001b[39;00m check_result \u001b[39mas\u001b[39;00m check_types\n\u001b[0;32m     31\u001b[0m \u001b[39mfrom\u001b[39;00m \u001b[39mdeepchecks\u001b[39;00m\u001b[39m.\u001b[39;00m\u001b[39mcore\u001b[39;00m \u001b[39mimport\u001b[39;00m errors\n\u001b[1;32m---> 32\u001b[0m \u001b[39mfrom\u001b[39;00m \u001b[39mdeepchecks\u001b[39;00m\u001b[39m.\u001b[39;00m\u001b[39mutils\u001b[39;00m\u001b[39m.\u001b[39;00m\u001b[39mdataframes\u001b[39;00m \u001b[39mimport\u001b[39;00m hide_index_for_display, un_numpy\n\u001b[0;32m     33\u001b[0m \u001b[39mfrom\u001b[39;00m \u001b[39mdeepchecks\u001b[39;00m\u001b[39m.\u001b[39;00m\u001b[39mutils\u001b[39;00m\u001b[39m.\u001b[39;00m\u001b[39mhtml\u001b[39;00m \u001b[39mimport\u001b[39;00m linktag\n\u001b[0;32m     34\u001b[0m \u001b[39mfrom\u001b[39;00m \u001b[39mdeepchecks\u001b[39;00m\u001b[39m.\u001b[39;00m\u001b[39mutils\u001b[39;00m\u001b[39m.\u001b[39;00m\u001b[39mstrings\u001b[39;00m \u001b[39mimport\u001b[39;00m truncate_string\n",
      "File \u001b[1;32mc:\\Users\\Sachin\\Desktop\\Pneumonia_Detection\\Pneumonia_Detection_MLOps\\pneumonia_env\\lib\\site-packages\\deepchecks\\utils\\dataframes.py:19\u001b[0m\n\u001b[0;32m     16\u001b[0m \u001b[39mfrom\u001b[39;00m \u001b[39mpandas\u001b[39;00m\u001b[39m.\u001b[39;00m\u001b[39mcore\u001b[39;00m\u001b[39m.\u001b[39;00m\u001b[39mdtypes\u001b[39;00m\u001b[39m.\u001b[39;00m\u001b[39mcommon\u001b[39;00m \u001b[39mimport\u001b[39;00m is_float_dtype, is_integer_dtype, is_numeric_dtype\n\u001b[0;32m     18\u001b[0m \u001b[39mfrom\u001b[39;00m \u001b[39mdeepchecks\u001b[39;00m\u001b[39m.\u001b[39;00m\u001b[39mcore\u001b[39;00m\u001b[39m.\u001b[39;00m\u001b[39merrors\u001b[39;00m \u001b[39mimport\u001b[39;00m DeepchecksValueError\n\u001b[1;32m---> 19\u001b[0m \u001b[39mfrom\u001b[39;00m \u001b[39mdeepchecks\u001b[39;00m\u001b[39m.\u001b[39;00m\u001b[39mutils\u001b[39;00m\u001b[39m.\u001b[39;00m\u001b[39mtype_inference\u001b[39;00m \u001b[39mimport\u001b[39;00m infer_categorical_features\n\u001b[0;32m     20\u001b[0m \u001b[39mfrom\u001b[39;00m \u001b[39mdeepchecks\u001b[39;00m\u001b[39m.\u001b[39;00m\u001b[39mutils\u001b[39;00m\u001b[39m.\u001b[39;00m\u001b[39mtyping\u001b[39;00m \u001b[39mimport\u001b[39;00m Hashable\n\u001b[0;32m     21\u001b[0m \u001b[39mfrom\u001b[39;00m \u001b[39mdeepchecks\u001b[39;00m\u001b[39m.\u001b[39;00m\u001b[39mutils\u001b[39;00m\u001b[39m.\u001b[39;00m\u001b[39mvalidation\u001b[39;00m \u001b[39mimport\u001b[39;00m ensure_hashable_or_mutable_sequence\n",
      "File \u001b[1;32mc:\\Users\\Sachin\\Desktop\\Pneumonia_Detection\\Pneumonia_Detection_MLOps\\pneumonia_env\\lib\\site-packages\\deepchecks\\utils\\type_inference.py:18\u001b[0m\n\u001b[0;32m     16\u001b[0m \u001b[39mimport\u001b[39;00m \u001b[39mnumpy\u001b[39;00m \u001b[39mas\u001b[39;00m \u001b[39mnp\u001b[39;00m\n\u001b[0;32m     17\u001b[0m \u001b[39mimport\u001b[39;00m \u001b[39mpandas\u001b[39;00m \u001b[39mas\u001b[39;00m \u001b[39mpd\u001b[39;00m\n\u001b[1;32m---> 18\u001b[0m \u001b[39mfrom\u001b[39;00m \u001b[39mpandas\u001b[39;00m\u001b[39m.\u001b[39;00m\u001b[39mcore\u001b[39;00m\u001b[39m.\u001b[39;00m\u001b[39mdtypes\u001b[39;00m\u001b[39m.\u001b[39;00m\u001b[39mcommon\u001b[39;00m \u001b[39mimport\u001b[39;00m is_datetime_or_timedelta_dtype, is_float_dtype, is_numeric_dtype\n\u001b[0;32m     19\u001b[0m \u001b[39mfrom\u001b[39;00m \u001b[39mtyping_extensions\u001b[39;00m \u001b[39mimport\u001b[39;00m Literal\n\u001b[0;32m     21\u001b[0m \u001b[39mfrom\u001b[39;00m \u001b[39mdeepchecks\u001b[39;00m\u001b[39m.\u001b[39;00m\u001b[39mutils\u001b[39;00m\u001b[39m.\u001b[39;00m\u001b[39mlogger\u001b[39;00m \u001b[39mimport\u001b[39;00m get_logger\n",
      "\u001b[1;31mImportError\u001b[0m: cannot import name 'is_datetime_or_timedelta_dtype' from 'pandas.core.dtypes.common' (c:\\Users\\Sachin\\Desktop\\Pneumonia_Detection\\Pneumonia_Detection_MLOps\\pneumonia_env\\lib\\site-packages\\pandas\\core\\dtypes\\common.py)"
     ]
    }
   ],
   "source": [
    "from deepchecks.vision import VisionData, BatchOutputFormat\n",
    "\n",
    "def deepchecks_map(batch) -> BatchOutputFormat:\n",
    "    # Extracting images and label and converting images of (N, C, H, W) into (N, H, W, C)\n",
    "    images = batch[0].permute(0, 2, 3, 1)\n",
    "    labels = batch[1]\n",
    "    # Convert ImageNet format images into to [0, 255] range format images.\n",
    "    mean, std = [0.485, 0.456, 0.406], [0.229, 0.224, 0.225]\n",
    "    images = np.clip(std * images.numpy() + mean, 0, 1) * 255\n",
    "    return BatchOutputFormat(images= images, labels= labels)\n",
    "\n",
    "deepchecks_dataset = validation_generator.map(deepchecks_map)\n",
    "vision_data = VisionData(deepchecks_dataset, task_type='classification')\n",
    "# Visualize the data and verify it is in the correct format\n",
    "vision_data.head()"
   ]
  },
  {
   "cell_type": "code",
   "execution_count": 24,
   "metadata": {},
   "outputs": [
    {
     "name": "stdout",
     "output_type": "stream",
     "text": [
      "Collecting torchNote: you may need to restart the kernel to use updated packages.\n",
      "\n",
      "  Downloading torch-2.0.1-cp310-cp310-win_amd64.whl (172.3 MB)\n",
      "Collecting sympy\n",
      "  Downloading sympy-1.12-py3-none-any.whl (5.7 MB)\n",
      "Requirement already satisfied: networkx in c:\\users\\sachin\\desktop\\pneumonia_detection\\pneumonia_detection_mlops\\pneumonia_env\\lib\\site-packages (from torch) (3.1)\n",
      "Requirement already satisfied: typing-extensions in c:\\users\\sachin\\desktop\\pneumonia_detection\\pneumonia_detection_mlops\\pneumonia_env\\lib\\site-packages (from torch) (4.5.0)\n",
      "Requirement already satisfied: jinja2 in c:\\users\\sachin\\desktop\\pneumonia_detection\\pneumonia_detection_mlops\\pneumonia_env\\lib\\site-packages (from torch) (3.1.2)\n",
      "Requirement already satisfied: filelock in c:\\users\\sachin\\desktop\\pneumonia_detection\\pneumonia_detection_mlops\\pneumonia_env\\lib\\site-packages (from torch) (3.12.4)\n",
      "Requirement already satisfied: MarkupSafe>=2.0 in c:\\users\\sachin\\desktop\\pneumonia_detection\\pneumonia_detection_mlops\\pneumonia_env\\lib\\site-packages (from jinja2->torch) (2.1.3)\n",
      "Collecting mpmath>=0.19\n",
      "  Downloading mpmath-1.3.0-py3-none-any.whl (536 kB)\n",
      "Installing collected packages: mpmath, sympy, torch\n",
      "Successfully installed mpmath-1.3.0 sympy-1.12 torch-2.0.1\n"
     ]
    },
    {
     "name": "stderr",
     "output_type": "stream",
     "text": [
      "WARNING: You are using pip version 21.2.3; however, version 23.2.1 is available.\n",
      "You should consider upgrading via the 'c:\\Users\\Sachin\\Desktop\\Pneumonia_Detection\\Pneumonia_Detection_MLOps\\pneumonia_env\\Scripts\\python.exe -m pip install --upgrade pip' command.\n"
     ]
    }
   ],
   "source": [
    "pip install torch"
   ]
  },
  {
   "cell_type": "code",
   "execution_count": null,
   "metadata": {},
   "outputs": [],
   "source": []
  }
 ],
 "metadata": {
  "kernelspec": {
   "display_name": "pneumonia_env",
   "language": "python",
   "name": "python3"
  },
  "language_info": {
   "codemirror_mode": {
    "name": "ipython",
    "version": 3
   },
   "file_extension": ".py",
   "mimetype": "text/x-python",
   "name": "python",
   "nbconvert_exporter": "python",
   "pygments_lexer": "ipython3",
   "version": "3.10.0"
  },
  "orig_nbformat": 4
 },
 "nbformat": 4,
 "nbformat_minor": 2
}
